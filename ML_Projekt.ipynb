{
  "nbformat": 4,
  "nbformat_minor": 0,
  "metadata": {
    "colab": {
      "provenance": [],
      "include_colab_link": true
    },
    "kernelspec": {
      "name": "python3",
      "display_name": "Python 3"
    },
    "language_info": {
      "name": "python"
    }
  },
  "cells": [
    {
      "cell_type": "markdown",
      "metadata": {
        "id": "view-in-github",
        "colab_type": "text"
      },
      "source": [
        "<a href=\"https://colab.research.google.com/github/Morgoth636/ML_WS22-23/blob/main/ML_Projekt.ipynb\" target=\"_parent\"><img src=\"https://colab.research.google.com/assets/colab-badge.svg\" alt=\"Open In Colab\"/></a>"
      ]
    },
    {
      "cell_type": "markdown",
      "source": [
        "# Banknote Dataset: Support Vector Machine/Binary Classification\n"
      ],
      "metadata": {
        "id": "y_HD0i3BJ8TZ"
      }
    },
    {
      "cell_type": "code",
      "execution_count": null,
      "metadata": {
        "id": "W7QIFJ3B-TsU"
      },
      "outputs": [],
      "source": [
        "import numpy as np\n",
        "import pandas as pd\n",
        "from sklearn.model_selection import train_test_split\n",
        "from sklearn.svm import SVC\n",
        "from sklearn.metrics import confusion_matrix, ConfusionMatrixDisplay, precision_score, f1_score, recall_score, accuracy_score\n",
        "import matplotlib.pyplot as plt"
      ]
    },
    {
      "cell_type": "markdown",
      "source": [
        "loading the dataset..."
      ],
      "metadata": {
        "id": "NtJB8l3kKNVz"
      }
    },
    {
      "cell_type": "code",
      "source": [
        "url = \"https://raw.githubusercontent.com/Morgoth636/ML_WS22-23/main/BankNote_Authentication.csv\"\n",
        "df = pd.read_csv(url)\n"
      ],
      "metadata": {
        "id": "_vNK1fhMB6co"
      },
      "execution_count": null,
      "outputs": []
    },
    {
      "cell_type": "markdown",
      "source": [
        "splitting the dataset in train data and test data with 20% test data and 80% training data"
      ],
      "metadata": {
        "id": "xtUMKilqKRwR"
      }
    },
    {
      "cell_type": "code",
      "source": [
        "y = df[\"class\"]\n",
        "X = df.loc[:, df.columns!=\"class\"]\n",
        "X_train, X_test, y_train, y_test = train_test_split(X, y, test_size=0.2, random_state=42)"
      ],
      "metadata": {
        "id": "u2FKEu6aCcAW"
      },
      "execution_count": null,
      "outputs": []
    },
    {
      "cell_type": "markdown",
      "source": [
        "setting up the classifier model and fitting the model to the training data..."
      ],
      "metadata": {
        "id": "wuWOZeEqKgmt"
      }
    },
    {
      "cell_type": "code",
      "source": [
        "from sklearn import metrics\n",
        "clf = SVC(gamma='auto')\n",
        "clf.fit(X_train, y_train)"
      ],
      "metadata": {
        "colab": {
          "base_uri": "https://localhost:8080/"
        },
        "id": "p_maIwC6CfFT",
        "outputId": "3c3fda78-0f02-4db5-f19b-6d9c93f31d8c"
      },
      "execution_count": null,
      "outputs": [
        {
          "output_type": "execute_result",
          "data": {
            "text/plain": [
              "SVC(gamma='auto')"
            ]
          },
          "metadata": {},
          "execution_count": 44
        }
      ]
    },
    {
      "cell_type": "markdown",
      "source": [
        "predicting on the test dataset..."
      ],
      "metadata": {
        "id": "JCOFK-EyKn55"
      }
    },
    {
      "cell_type": "code",
      "source": [
        "y_pred = clf.predict(X_test)"
      ],
      "metadata": {
        "id": "ijVt3rBUIscD"
      },
      "execution_count": null,
      "outputs": []
    },
    {
      "cell_type": "markdown",
      "source": [
        "creating and plotting the confusion matrix for the classifier..."
      ],
      "metadata": {
        "id": "Y1o4OYXELBhE"
      }
    },
    {
      "cell_type": "code",
      "source": [
        "cm = confusion_matrix(y_test, y_pred, labels=clf.classes_)\n",
        "disp = ConfusionMatrixDisplay(confusion_matrix=cm,\n",
        "                              display_labels=clf.classes_)\n",
        "disp.plot()\n",
        "plt.show()"
      ],
      "metadata": {
        "colab": {
          "base_uri": "https://localhost:8080/",
          "height": 279
        },
        "id": "BIMBDcf7JN0i",
        "outputId": "c4da53b7-a213-4949-a5cd-30de0dea035c"
      },
      "execution_count": null,
      "outputs": [
        {
          "output_type": "display_data",
          "data": {
            "text/plain": [
              "<Figure size 432x288 with 2 Axes>"
            ],
            "image/png": "[encoded data removed]"
          },
          "metadata": {
            "needs_background": "light"
          }
        }
      ]
    },
    {
      "cell_type": "code",
      "source": [
        "print('Precision: %.3f' % precision_score(y_test, y_pred))\n",
        "print('\\n')\n",
        "print('Recall: %.3f' % recall_score(y_test, y_pred))\n",
        "print('\\n')\n",
        "print('F1: %.3f' % f1_score(y_test, y_pred))\n",
        "print('\\n')\n",
        "print('Accuracy: %.3f' % accuracy_score(y_test, y_pred))"
      ],
      "metadata": {
        "colab": {
          "base_uri": "https://localhost:8080/"
        },
        "id": "PFXZKIFfFPR8",
        "outputId": "0635c23d-937a-4087-cc41-56bfebe68455"
      },
      "execution_count": null,
      "outputs": [
        {
          "output_type": "stream",
          "name": "stdout",
          "text": [
            "Precision: 1.000\n",
            "\n",
            "\n",
            "Recall: 1.000\n",
            "\n",
            "\n",
            "F1: 1.000\n",
            "\n",
            "\n",
            "Accuracy: 1.000\n"
          ]
        }
      ]
    },
    {
      "cell_type": "markdown",
      "source": [
        "#Wine Dataset: Multi Layer Perceptron/Multiclass Classification"
      ],
      "metadata": {
        "id": "xz6hv-rXLJ_e"
      }
    },
    {
      "cell_type": "code",
      "source": [
        "import numpy as np\n",
        "import pandas as pd\n",
        "from sklearn.model_selection import train_test_split\n",
        "from sklearn.preprocessing import normalize, scale\n",
        "from sklearn.metrics import confusion_matrix, ConfusionMatrixDisplay, precision_score, f1_score, recall_score, accuracy_score\n",
        "import matplotlib.pyplot as plt\n",
        "from tensorflow.keras.utils import to_categorical\n",
        "from tensorflow.keras.models import Sequential\n",
        "from tensorflow.keras.layers import Dense, Dropout\n",
        "from tensorflow.keras.optimizers import Adam"
      ],
      "metadata": {
        "id": "-kFTSh3EI3q6"
      },
      "execution_count": null,
      "outputs": []
    },
    {
      "cell_type": "code",
      "source": [
        "model = Sequential()\n",
        "model.add(Dense(32, input_dim=11, activation='relu'))\n",
        "model.add(Dropout(0.2))\n",
        "model.add(Dense(32, activation='relu'))\n",
        "model.add(Dropout(0.2))\n",
        "model.add(Dense(32, activation='relu'))\n",
        "model.add(Dropout(0.2))\n",
        "model.add(Dense(11, activation='softmax'))\n",
        "\n",
        "model.compile(loss='categorical_crossentropy', optimizer= Adam(learning_rate=1e-3), metrics=['accuracy'])\n"
      ],
      "metadata": {
        "id": "sOMuxRN_TU_F"
      },
      "execution_count": null,
      "outputs": []
    },
    {
      "cell_type": "code",
      "source": [
        "def load_dataset(red):\n",
        "  if red:\n",
        "    url = \"https://raw.githubusercontent.com/Morgoth636/ML_WS22-23/main/winequality-red.csv\"\n",
        "    df = pd.read_csv(url)\n",
        "    y = df[\"quality\"]\n",
        "    X = df.loc[:, df.columns!=\"quality\"]\n",
        "    X = scale(X)\n",
        "    return X, y\n",
        "  else:\n",
        "    url = \"https://raw.githubusercontent.com/Morgoth636/ML_WS22-23/main/winequality-white.csv\"\n",
        "    df = pd.read_csv( url, sep=';')\n",
        "    y = df[\"quality\"]\n",
        "    X = df.loc[:, df.columns!='quality']\n",
        "    X = scale(X)\n",
        "    return X, y"
      ],
      "metadata": {
        "id": "pidFOOiyXbkm"
      },
      "execution_count": null,
      "outputs": []
    },
    {
      "cell_type": "code",
      "source": [
        "X, y = load_dataset(red=True)\n",
        "X_train, X_test, y_train, y_test = train_test_split(X, y, test_size=0.2, random_state=42)\n",
        "y_train = to_categorical(y_train, num_classes=11)\n",
        "y_test = to_categorical(y_test, num_classes=11)\n",
        "model.fit(X_train, y_train, epochs=200)\n",
        "  "
      ],
      "metadata": {
        "colab": {
          "base_uri": "https://localhost:8080/"
        },
        "id": "BIqJddKdMbHJ",
        "outputId": "af287c4b-ecf8-4f72-f945-922b988da87a"
      },
      "execution_count": null,
      "outputs": [
        {
          "output_type": "stream",
          "name": "stdout",
          "text": [
            "Epoch 1/200\n",
            "40/40 [==============================] - 1s 2ms/step - loss: 2.3202 - accuracy: 0.2260\n",
            "Epoch 2/200\n",
            "40/40 [==============================] - 0s 2ms/step - loss: 1.6875 - accuracy: 0.4543\n",
            "Epoch 3/200\n",
            "40/40 [==============================] - 0s 2ms/step - loss: 1.2876 - accuracy: 0.5035\n",
            "Epoch 4/200\n",
            "40/40 [==============================] - 0s 2ms/step - loss: 1.1948 - accuracy: 0.5207\n",
            "Epoch 5/200\n",
            "40/40 [==============================] - 0s 2ms/step - loss: 1.1131 - accuracy: 0.5426\n",
            "Epoch 6/200\n",
            "40/40 [==============================] - 0s 2ms/step - loss: 1.1014 - accuracy: 0.5450\n",
            "Epoch 7/200\n",
            "40/40 [==============================] - 0s 2ms/step - loss: 1.0882 - accuracy: 0.5629\n",
            "Epoch 8/200\n",
            "40/40 [==============================] - 0s 2ms/step - loss: 1.0810 - accuracy: 0.5606\n",
            "Epoch 9/200\n",
            "40/40 [==============================] - 0s 2ms/step - loss: 1.0581 - accuracy: 0.5739\n",
            "Epoch 10/200\n",
            "40/40 [==============================] - 0s 2ms/step - loss: 1.0513 - accuracy: 0.5708\n",
            "Epoch 11/200\n",
            "40/40 [==============================] - 0s 2ms/step - loss: 1.0505 - accuracy: 0.5754\n",
            "Epoch 12/200\n",
            "40/40 [==============================] - 0s 2ms/step - loss: 1.0269 - accuracy: 0.5887\n",
            "Epoch 13/200\n",
            "40/40 [==============================] - 0s 2ms/step - loss: 1.0221 - accuracy: 0.5762\n",
            "Epoch 14/200\n",
            "40/40 [==============================] - 0s 2ms/step - loss: 1.0044 - accuracy: 0.5958\n",
            "Epoch 15/200\n",
            "40/40 [==============================] - 0s 2ms/step - loss: 1.0343 - accuracy: 0.5801\n",
            "Epoch 16/200\n",
            "40/40 [==============================] - 0s 2ms/step - loss: 1.0030 - accuracy: 0.5887\n",
            "Epoch 17/200\n",
            "40/40 [==============================] - 0s 2ms/step - loss: 1.0043 - accuracy: 0.5825\n",
            "Epoch 18/200\n",
            "40/40 [==============================] - 0s 2ms/step - loss: 1.0163 - accuracy: 0.5958\n",
            "Epoch 19/200\n",
            "40/40 [==============================] - 0s 2ms/step - loss: 1.0028 - accuracy: 0.5794\n",
            "Epoch 20/200\n",
            "40/40 [==============================] - 0s 2ms/step - loss: 0.9893 - accuracy: 0.5880\n",
            "Epoch 21/200\n",
            "40/40 [==============================] - 0s 2ms/step - loss: 0.9966 - accuracy: 0.5848\n",
            "Epoch 22/200\n",
            "40/40 [==============================] - 0s 2ms/step - loss: 0.9851 - accuracy: 0.6044\n",
            "Epoch 23/200\n",
            "40/40 [==============================] - 0s 2ms/step - loss: 0.9775 - accuracy: 0.5981\n",
            "Epoch 24/200\n",
            "40/40 [==============================] - 0s 2ms/step - loss: 0.9800 - accuracy: 0.6020\n",
            "Epoch 25/200\n",
            "40/40 [==============================] - 0s 2ms/step - loss: 0.9701 - accuracy: 0.6114\n",
            "Epoch 26/200\n",
            "40/40 [==============================] - 0s 2ms/step - loss: 0.9607 - accuracy: 0.5989\n",
            "Epoch 27/200\n",
            "40/40 [==============================] - 0s 2ms/step - loss: 0.9603 - accuracy: 0.6075\n",
            "Epoch 28/200\n",
            "40/40 [==============================] - 0s 2ms/step - loss: 0.9615 - accuracy: 0.5997\n",
            "Epoch 29/200\n",
            "40/40 [==============================] - 0s 2ms/step - loss: 0.9503 - accuracy: 0.6130\n",
            "Epoch 30/200\n",
            "40/40 [==============================] - 0s 2ms/step - loss: 0.9548 - accuracy: 0.6044\n",
            "Epoch 31/200\n",
            "40/40 [==============================] - 0s 2ms/step - loss: 0.9469 - accuracy: 0.6075\n",
            "Epoch 32/200\n",
            "40/40 [==============================] - 0s 2ms/step - loss: 0.9426 - accuracy: 0.6419\n",
            "Epoch 33/200\n",
            "40/40 [==============================] - 0s 2ms/step - loss: 0.9367 - accuracy: 0.6130\n",
            "Epoch 34/200\n",
            "40/40 [==============================] - 0s 2ms/step - loss: 0.9359 - accuracy: 0.6106\n",
            "Epoch 35/200\n",
            "40/40 [==============================] - 0s 2ms/step - loss: 0.9358 - accuracy: 0.6075\n",
            "Epoch 36/200\n",
            "40/40 [==============================] - 0s 2ms/step - loss: 0.9457 - accuracy: 0.6145\n",
            "Epoch 37/200\n",
            "40/40 [==============================] - 0s 2ms/step - loss: 0.9399 - accuracy: 0.6177\n",
            "Epoch 38/200\n",
            "40/40 [==============================] - 0s 2ms/step - loss: 0.9334 - accuracy: 0.6208\n",
            "Epoch 39/200\n",
            "40/40 [==============================] - 0s 2ms/step - loss: 0.9271 - accuracy: 0.6263\n",
            "Epoch 40/200\n",
            "40/40 [==============================] - 0s 2ms/step - loss: 0.9289 - accuracy: 0.6138\n",
            "Epoch 41/200\n",
            "40/40 [==============================] - 0s 2ms/step - loss: 0.9257 - accuracy: 0.6169\n",
            "Epoch 42/200\n",
            "40/40 [==============================] - 0s 2ms/step - loss: 0.9360 - accuracy: 0.6005\n",
            "Epoch 43/200\n",
            "40/40 [==============================] - 0s 2ms/step - loss: 0.9241 - accuracy: 0.6247\n",
            "Epoch 44/200\n",
            "40/40 [==============================] - 0s 2ms/step - loss: 0.9254 - accuracy: 0.6192\n",
            "Epoch 45/200\n",
            "40/40 [==============================] - 0s 2ms/step - loss: 0.9356 - accuracy: 0.6153\n",
            "Epoch 46/200\n",
            "40/40 [==============================] - 0s 2ms/step - loss: 0.9259 - accuracy: 0.6278\n",
            "Epoch 47/200\n",
            "40/40 [==============================] - 0s 2ms/step - loss: 0.9020 - accuracy: 0.6224\n",
            "Epoch 48/200\n",
            "40/40 [==============================] - 0s 2ms/step - loss: 0.9093 - accuracy: 0.6153\n",
            "Epoch 49/200\n",
            "40/40 [==============================] - 0s 2ms/step - loss: 0.9353 - accuracy: 0.6169\n",
            "Epoch 50/200\n",
            "40/40 [==============================] - 0s 2ms/step - loss: 0.9059 - accuracy: 0.6263\n",
            "Epoch 51/200\n",
            "40/40 [==============================] - 0s 2ms/step - loss: 0.9130 - accuracy: 0.6317\n",
            "Epoch 52/200\n",
            "40/40 [==============================] - 0s 2ms/step - loss: 0.9149 - accuracy: 0.6114\n",
            "Epoch 53/200\n",
            "40/40 [==============================] - 0s 2ms/step - loss: 0.9088 - accuracy: 0.6231\n",
            "Epoch 54/200\n",
            "40/40 [==============================] - 0s 2ms/step - loss: 0.9109 - accuracy: 0.6239\n",
            "Epoch 55/200\n",
            "40/40 [==============================] - 0s 2ms/step - loss: 0.9003 - accuracy: 0.6192\n",
            "Epoch 56/200\n",
            "40/40 [==============================] - 0s 2ms/step - loss: 0.8918 - accuracy: 0.6177\n",
            "Epoch 57/200\n",
            "40/40 [==============================] - 0s 2ms/step - loss: 0.8998 - accuracy: 0.6185\n",
            "Epoch 58/200\n",
            "40/40 [==============================] - 0s 2ms/step - loss: 0.9234 - accuracy: 0.6036\n",
            "Epoch 59/200\n",
            "40/40 [==============================] - 0s 2ms/step - loss: 0.8934 - accuracy: 0.6216\n",
            "Epoch 60/200\n",
            "40/40 [==============================] - 0s 2ms/step - loss: 0.8938 - accuracy: 0.6357\n",
            "Epoch 61/200\n",
            "40/40 [==============================] - 0s 2ms/step - loss: 0.9028 - accuracy: 0.6192\n",
            "Epoch 62/200\n",
            "40/40 [==============================] - 0s 2ms/step - loss: 0.8878 - accuracy: 0.6255\n",
            "Epoch 63/200\n",
            "40/40 [==============================] - 0s 2ms/step - loss: 0.8969 - accuracy: 0.6333\n",
            "Epoch 64/200\n",
            "40/40 [==============================] - 0s 2ms/step - loss: 0.8886 - accuracy: 0.6263\n",
            "Epoch 65/200\n",
            "40/40 [==============================] - 0s 2ms/step - loss: 0.8945 - accuracy: 0.6200\n",
            "Epoch 66/200\n",
            "40/40 [==============================] - 0s 2ms/step - loss: 0.8887 - accuracy: 0.6278\n",
            "Epoch 67/200\n",
            "40/40 [==============================] - 0s 2ms/step - loss: 0.9015 - accuracy: 0.6294\n",
            "Epoch 68/200\n",
            "40/40 [==============================] - 0s 2ms/step - loss: 0.8763 - accuracy: 0.6294\n",
            "Epoch 69/200\n",
            "40/40 [==============================] - 0s 2ms/step - loss: 0.8981 - accuracy: 0.6224\n",
            "Epoch 70/200\n",
            "40/40 [==============================] - 0s 2ms/step - loss: 0.8940 - accuracy: 0.6349\n",
            "Epoch 71/200\n",
            "40/40 [==============================] - 0s 2ms/step - loss: 0.8946 - accuracy: 0.6247\n",
            "Epoch 72/200\n",
            "40/40 [==============================] - 0s 2ms/step - loss: 0.8765 - accuracy: 0.6349\n",
            "Epoch 73/200\n",
            "40/40 [==============================] - 0s 2ms/step - loss: 0.8582 - accuracy: 0.6380\n",
            "Epoch 74/200\n",
            "40/40 [==============================] - 0s 2ms/step - loss: 0.8858 - accuracy: 0.6380\n",
            "Epoch 75/200\n",
            "40/40 [==============================] - 0s 2ms/step - loss: 0.8907 - accuracy: 0.6380\n",
            "Epoch 76/200\n",
            "40/40 [==============================] - 0s 2ms/step - loss: 0.8783 - accuracy: 0.6364\n",
            "Epoch 77/200\n",
            "40/40 [==============================] - 0s 2ms/step - loss: 0.8730 - accuracy: 0.6427\n",
            "Epoch 78/200\n",
            "40/40 [==============================] - 0s 2ms/step - loss: 0.8754 - accuracy: 0.6427\n",
            "Epoch 79/200\n",
            "40/40 [==============================] - 0s 2ms/step - loss: 0.8669 - accuracy: 0.6513\n",
            "Epoch 80/200\n",
            "40/40 [==============================] - 0s 2ms/step - loss: 0.8750 - accuracy: 0.6419\n",
            "Epoch 81/200\n",
            "40/40 [==============================] - 0s 2ms/step - loss: 0.8824 - accuracy: 0.6278\n",
            "Epoch 82/200\n",
            "40/40 [==============================] - 0s 2ms/step - loss: 0.8770 - accuracy: 0.6403\n",
            "Epoch 83/200\n",
            "40/40 [==============================] - 0s 2ms/step - loss: 0.8852 - accuracy: 0.6513\n",
            "Epoch 84/200\n",
            "40/40 [==============================] - 0s 2ms/step - loss: 0.8692 - accuracy: 0.6286\n",
            "Epoch 85/200\n",
            "40/40 [==============================] - 0s 2ms/step - loss: 0.8903 - accuracy: 0.6427\n",
            "Epoch 86/200\n",
            "40/40 [==============================] - 0s 2ms/step - loss: 0.8838 - accuracy: 0.6271\n",
            "Epoch 87/200\n",
            "40/40 [==============================] - 0s 2ms/step - loss: 0.8763 - accuracy: 0.6286\n",
            "Epoch 88/200\n",
            "40/40 [==============================] - 0s 2ms/step - loss: 0.8719 - accuracy: 0.6458\n",
            "Epoch 89/200\n",
            "40/40 [==============================] - 0s 2ms/step - loss: 0.8541 - accuracy: 0.6466\n",
            "Epoch 90/200\n",
            "40/40 [==============================] - 0s 2ms/step - loss: 0.8549 - accuracy: 0.6450\n",
            "Epoch 91/200\n",
            "40/40 [==============================] - 0s 2ms/step - loss: 0.8585 - accuracy: 0.6357\n",
            "Epoch 92/200\n",
            "40/40 [==============================] - 0s 2ms/step - loss: 0.8660 - accuracy: 0.6278\n",
            "Epoch 93/200\n",
            "40/40 [==============================] - 0s 2ms/step - loss: 0.8585 - accuracy: 0.6388\n",
            "Epoch 94/200\n",
            "40/40 [==============================] - 0s 2ms/step - loss: 0.8544 - accuracy: 0.6403\n",
            "Epoch 95/200\n",
            "40/40 [==============================] - 0s 2ms/step - loss: 0.8413 - accuracy: 0.6622\n",
            "Epoch 96/200\n",
            "40/40 [==============================] - 0s 2ms/step - loss: 0.8526 - accuracy: 0.6364\n",
            "Epoch 97/200\n",
            "40/40 [==============================] - 0s 2ms/step - loss: 0.8469 - accuracy: 0.6497\n",
            "Epoch 98/200\n",
            "40/40 [==============================] - 0s 2ms/step - loss: 0.8552 - accuracy: 0.6474\n",
            "Epoch 99/200\n",
            "40/40 [==============================] - 0s 2ms/step - loss: 0.8617 - accuracy: 0.6443\n",
            "Epoch 100/200\n",
            "40/40 [==============================] - 0s 2ms/step - loss: 0.8592 - accuracy: 0.6482\n",
            "Epoch 101/200\n",
            "40/40 [==============================] - 0s 2ms/step - loss: 0.8561 - accuracy: 0.6607\n",
            "Epoch 102/200\n",
            "40/40 [==============================] - 0s 2ms/step - loss: 0.8558 - accuracy: 0.6505\n",
            "Epoch 103/200\n",
            "40/40 [==============================] - 0s 2ms/step - loss: 0.8372 - accuracy: 0.6560\n",
            "Epoch 104/200\n",
            "40/40 [==============================] - 0s 2ms/step - loss: 0.8498 - accuracy: 0.6513\n",
            "Epoch 105/200\n",
            "40/40 [==============================] - 0s 2ms/step - loss: 0.8390 - accuracy: 0.6411\n",
            "Epoch 106/200\n",
            "40/40 [==============================] - 0s 2ms/step - loss: 0.8403 - accuracy: 0.6529\n",
            "Epoch 107/200\n",
            "40/40 [==============================] - 0s 2ms/step - loss: 0.8510 - accuracy: 0.6513\n",
            "Epoch 108/200\n",
            "40/40 [==============================] - 0s 2ms/step - loss: 0.8371 - accuracy: 0.6505\n",
            "Epoch 109/200\n",
            "40/40 [==============================] - 0s 2ms/step - loss: 0.8401 - accuracy: 0.6622\n",
            "Epoch 110/200\n",
            "40/40 [==============================] - 0s 2ms/step - loss: 0.8536 - accuracy: 0.6443\n",
            "Epoch 111/200\n",
            "40/40 [==============================] - 0s 2ms/step - loss: 0.8457 - accuracy: 0.6427\n",
            "Epoch 112/200\n",
            "40/40 [==============================] - 0s 2ms/step - loss: 0.8462 - accuracy: 0.6489\n",
            "Epoch 113/200\n",
            "40/40 [==============================] - 0s 2ms/step - loss: 0.8309 - accuracy: 0.6615\n",
            "Epoch 114/200\n",
            "40/40 [==============================] - 0s 2ms/step - loss: 0.8525 - accuracy: 0.6466\n",
            "Epoch 115/200\n",
            "40/40 [==============================] - 0s 2ms/step - loss: 0.8497 - accuracy: 0.6458\n",
            "Epoch 116/200\n",
            "40/40 [==============================] - 0s 2ms/step - loss: 0.8444 - accuracy: 0.6427\n",
            "Epoch 117/200\n",
            "40/40 [==============================] - 0s 2ms/step - loss: 0.8368 - accuracy: 0.6474\n",
            "Epoch 118/200\n",
            "40/40 [==============================] - 0s 2ms/step - loss: 0.8375 - accuracy: 0.6622\n",
            "Epoch 119/200\n",
            "40/40 [==============================] - 0s 2ms/step - loss: 0.8333 - accuracy: 0.6403\n",
            "Epoch 120/200\n",
            "40/40 [==============================] - 0s 2ms/step - loss: 0.8307 - accuracy: 0.6536\n",
            "Epoch 121/200\n",
            "40/40 [==============================] - 0s 2ms/step - loss: 0.8377 - accuracy: 0.6403\n",
            "Epoch 122/200\n",
            "40/40 [==============================] - 0s 2ms/step - loss: 0.8213 - accuracy: 0.6521\n",
            "Epoch 123/200\n",
            "40/40 [==============================] - 0s 2ms/step - loss: 0.8335 - accuracy: 0.6654\n",
            "Epoch 124/200\n",
            "40/40 [==============================] - 0s 2ms/step - loss: 0.8301 - accuracy: 0.6497\n",
            "Epoch 125/200\n",
            "40/40 [==============================] - 0s 2ms/step - loss: 0.8414 - accuracy: 0.6661\n",
            "Epoch 126/200\n",
            "40/40 [==============================] - 0s 2ms/step - loss: 0.8397 - accuracy: 0.6583\n",
            "Epoch 127/200\n",
            "40/40 [==============================] - 0s 2ms/step - loss: 0.8292 - accuracy: 0.6591\n",
            "Epoch 128/200\n",
            "40/40 [==============================] - 0s 2ms/step - loss: 0.8503 - accuracy: 0.6544\n",
            "Epoch 129/200\n",
            "40/40 [==============================] - 0s 2ms/step - loss: 0.8279 - accuracy: 0.6599\n",
            "Epoch 130/200\n",
            "40/40 [==============================] - 0s 2ms/step - loss: 0.8253 - accuracy: 0.6560\n",
            "Epoch 131/200\n",
            "40/40 [==============================] - 0s 2ms/step - loss: 0.8217 - accuracy: 0.6638\n",
            "Epoch 132/200\n",
            "40/40 [==============================] - 0s 2ms/step - loss: 0.8275 - accuracy: 0.6497\n",
            "Epoch 133/200\n",
            "40/40 [==============================] - 0s 2ms/step - loss: 0.8288 - accuracy: 0.6599\n",
            "Epoch 134/200\n",
            "40/40 [==============================] - 0s 2ms/step - loss: 0.8092 - accuracy: 0.6630\n",
            "Epoch 135/200\n",
            "40/40 [==============================] - 0s 2ms/step - loss: 0.8176 - accuracy: 0.6732\n",
            "Epoch 136/200\n",
            "40/40 [==============================] - 0s 2ms/step - loss: 0.7985 - accuracy: 0.6607\n",
            "Epoch 137/200\n",
            "40/40 [==============================] - 0s 2ms/step - loss: 0.8264 - accuracy: 0.6638\n",
            "Epoch 138/200\n",
            "40/40 [==============================] - 0s 2ms/step - loss: 0.8181 - accuracy: 0.6607\n",
            "Epoch 139/200\n",
            "40/40 [==============================] - 0s 2ms/step - loss: 0.8145 - accuracy: 0.6591\n",
            "Epoch 140/200\n",
            "40/40 [==============================] - 0s 2ms/step - loss: 0.8149 - accuracy: 0.6529\n",
            "Epoch 141/200\n",
            "40/40 [==============================] - 0s 2ms/step - loss: 0.8326 - accuracy: 0.6458\n",
            "Epoch 142/200\n",
            "40/40 [==============================] - 0s 2ms/step - loss: 0.8120 - accuracy: 0.6646\n",
            "Epoch 143/200\n",
            "40/40 [==============================] - 0s 2ms/step - loss: 0.8127 - accuracy: 0.6693\n",
            "Epoch 144/200\n",
            "40/40 [==============================] - 0s 2ms/step - loss: 0.8176 - accuracy: 0.6716\n",
            "Epoch 145/200\n",
            "40/40 [==============================] - 0s 2ms/step - loss: 0.8249 - accuracy: 0.6505\n",
            "Epoch 146/200\n",
            "40/40 [==============================] - 0s 2ms/step - loss: 0.8230 - accuracy: 0.6591\n",
            "Epoch 147/200\n",
            "40/40 [==============================] - 0s 2ms/step - loss: 0.8158 - accuracy: 0.6747\n",
            "Epoch 148/200\n",
            "40/40 [==============================] - 0s 2ms/step - loss: 0.8184 - accuracy: 0.6669\n",
            "Epoch 149/200\n",
            "40/40 [==============================] - 0s 2ms/step - loss: 0.8086 - accuracy: 0.6560\n",
            "Epoch 150/200\n",
            "40/40 [==============================] - 0s 2ms/step - loss: 0.7991 - accuracy: 0.6747\n",
            "Epoch 151/200\n",
            "40/40 [==============================] - 0s 2ms/step - loss: 0.7916 - accuracy: 0.6646\n",
            "Epoch 152/200\n",
            "40/40 [==============================] - 0s 2ms/step - loss: 0.8080 - accuracy: 0.6740\n",
            "Epoch 153/200\n",
            "40/40 [==============================] - 0s 2ms/step - loss: 0.8252 - accuracy: 0.6638\n",
            "Epoch 154/200\n",
            "40/40 [==============================] - 0s 2ms/step - loss: 0.8191 - accuracy: 0.6544\n",
            "Epoch 155/200\n",
            "40/40 [==============================] - 0s 2ms/step - loss: 0.8073 - accuracy: 0.6724\n",
            "Epoch 156/200\n",
            "40/40 [==============================] - 0s 2ms/step - loss: 0.8115 - accuracy: 0.6685\n",
            "Epoch 157/200\n",
            "40/40 [==============================] - 0s 2ms/step - loss: 0.8189 - accuracy: 0.6599\n",
            "Epoch 158/200\n",
            "40/40 [==============================] - 0s 2ms/step - loss: 0.8191 - accuracy: 0.6669\n",
            "Epoch 159/200\n",
            "40/40 [==============================] - 0s 2ms/step - loss: 0.7997 - accuracy: 0.6654\n",
            "Epoch 160/200\n",
            "40/40 [==============================] - 0s 2ms/step - loss: 0.7885 - accuracy: 0.6755\n",
            "Epoch 161/200\n",
            "40/40 [==============================] - 0s 2ms/step - loss: 0.8230 - accuracy: 0.6669\n",
            "Epoch 162/200\n",
            "40/40 [==============================] - 0s 2ms/step - loss: 0.8031 - accuracy: 0.6693\n",
            "Epoch 163/200\n",
            "40/40 [==============================] - 0s 2ms/step - loss: 0.8002 - accuracy: 0.6794\n",
            "Epoch 164/200\n",
            "40/40 [==============================] - 0s 2ms/step - loss: 0.7853 - accuracy: 0.6810\n",
            "Epoch 165/200\n",
            "40/40 [==============================] - 0s 2ms/step - loss: 0.7941 - accuracy: 0.6747\n",
            "Epoch 166/200\n",
            "40/40 [==============================] - 0s 2ms/step - loss: 0.7981 - accuracy: 0.6810\n",
            "Epoch 167/200\n",
            "40/40 [==============================] - 0s 2ms/step - loss: 0.7936 - accuracy: 0.6716\n",
            "Epoch 168/200\n",
            "40/40 [==============================] - 0s 2ms/step - loss: 0.8004 - accuracy: 0.6763\n",
            "Epoch 169/200\n",
            "40/40 [==============================] - 0s 2ms/step - loss: 0.8024 - accuracy: 0.6740\n",
            "Epoch 170/200\n",
            "40/40 [==============================] - 0s 2ms/step - loss: 0.7963 - accuracy: 0.6787\n",
            "Epoch 171/200\n",
            "40/40 [==============================] - 0s 2ms/step - loss: 0.8030 - accuracy: 0.6622\n",
            "Epoch 172/200\n",
            "40/40 [==============================] - 0s 2ms/step - loss: 0.7964 - accuracy: 0.6622\n",
            "Epoch 173/200\n",
            "40/40 [==============================] - 0s 2ms/step - loss: 0.7943 - accuracy: 0.6747\n",
            "Epoch 174/200\n",
            "40/40 [==============================] - 0s 2ms/step - loss: 0.8130 - accuracy: 0.6583\n",
            "Epoch 175/200\n",
            "40/40 [==============================] - 0s 2ms/step - loss: 0.7991 - accuracy: 0.6779\n",
            "Epoch 176/200\n",
            "40/40 [==============================] - 0s 2ms/step - loss: 0.7802 - accuracy: 0.6802\n",
            "Epoch 177/200\n",
            "40/40 [==============================] - 0s 2ms/step - loss: 0.7883 - accuracy: 0.6716\n",
            "Epoch 178/200\n",
            "40/40 [==============================] - 0s 2ms/step - loss: 0.8242 - accuracy: 0.6677\n",
            "Epoch 179/200\n",
            "40/40 [==============================] - 0s 2ms/step - loss: 0.8104 - accuracy: 0.6763\n",
            "Epoch 180/200\n",
            "40/40 [==============================] - 0s 2ms/step - loss: 0.7930 - accuracy: 0.6724\n",
            "Epoch 181/200\n",
            "40/40 [==============================] - 0s 2ms/step - loss: 0.7918 - accuracy: 0.6779\n",
            "Epoch 182/200\n",
            "40/40 [==============================] - 0s 2ms/step - loss: 0.8057 - accuracy: 0.6607\n",
            "Epoch 183/200\n",
            "40/40 [==============================] - 0s 2ms/step - loss: 0.7858 - accuracy: 0.6833\n",
            "Epoch 184/200\n",
            "40/40 [==============================] - 0s 2ms/step - loss: 0.8044 - accuracy: 0.6794\n",
            "Epoch 185/200\n",
            "40/40 [==============================] - 0s 2ms/step - loss: 0.7962 - accuracy: 0.6763\n",
            "Epoch 186/200\n",
            "40/40 [==============================] - 0s 2ms/step - loss: 0.7996 - accuracy: 0.6779\n",
            "Epoch 187/200\n",
            "40/40 [==============================] - 0s 2ms/step - loss: 0.7794 - accuracy: 0.6787\n",
            "Epoch 188/200\n",
            "40/40 [==============================] - 0s 2ms/step - loss: 0.7944 - accuracy: 0.6716\n",
            "Epoch 189/200\n",
            "40/40 [==============================] - 0s 2ms/step - loss: 0.7974 - accuracy: 0.6904\n",
            "Epoch 190/200\n",
            "40/40 [==============================] - 0s 2ms/step - loss: 0.7932 - accuracy: 0.6841\n",
            "Epoch 191/200\n",
            "40/40 [==============================] - 0s 2ms/step - loss: 0.7912 - accuracy: 0.6669\n",
            "Epoch 192/200\n",
            "40/40 [==============================] - 0s 2ms/step - loss: 0.7817 - accuracy: 0.6787\n",
            "Epoch 193/200\n",
            "40/40 [==============================] - 0s 2ms/step - loss: 0.7670 - accuracy: 0.6912\n",
            "Epoch 194/200\n",
            "40/40 [==============================] - 0s 2ms/step - loss: 0.7920 - accuracy: 0.6771\n",
            "Epoch 195/200\n",
            "40/40 [==============================] - 0s 2ms/step - loss: 0.7669 - accuracy: 0.6747\n",
            "Epoch 196/200\n",
            "40/40 [==============================] - 0s 2ms/step - loss: 0.8058 - accuracy: 0.6708\n",
            "Epoch 197/200\n",
            "40/40 [==============================] - 0s 2ms/step - loss: 0.7792 - accuracy: 0.6755\n",
            "Epoch 198/200\n",
            "40/40 [==============================] - 0s 2ms/step - loss: 0.7901 - accuracy: 0.6708\n",
            "Epoch 199/200\n",
            "40/40 [==============================] - 0s 2ms/step - loss: 0.8100 - accuracy: 0.6685\n",
            "Epoch 200/200\n",
            "40/40 [==============================] - 0s 2ms/step - loss: 0.7757 - accuracy: 0.6810\n"
          ]
        },
        {
          "output_type": "execute_result",
          "data": {
            "text/plain": [
              "<keras.callbacks.History at 0x7fb1c4433f40>"
            ]
          },
          "metadata": {},
          "execution_count": 10
        }
      ]
    },
    {
      "cell_type": "code",
      "source": [
        "results = model.evaluate(X_test, y_test)\n"
      ],
      "metadata": {
        "colab": {
          "base_uri": "https://localhost:8080/"
        },
        "id": "sZufcN7haCzl",
        "outputId": "458fbcce-e136-4a36-8de7-a1dd7f5b37cb"
      },
      "execution_count": null,
      "outputs": [
        {
          "output_type": "stream",
          "name": "stdout",
          "text": [
            "10/10 [==============================] - 0s 2ms/step - loss: 0.8582 - accuracy: 0.6062\n"
          ]
        }
      ]
    }
  ]
}